{
 "cells": [
  {
   "cell_type": "code",
   "execution_count": 3,
   "metadata": {},
   "outputs": [],
   "source": [
    "import scipy.stats\n",
    "import numpy as np\n",
    "import pandas as pd\n",
    "import datetime\n",
    "\n",
    "from matplotlib import pyplot as plt\n",
    "from matplotlib.pyplot import figure\n",
    "import matplotlib.dates as mdates\n",
    "\n",
    "\n",
    "%matplotlib inline"
   ]
  },
  {
   "cell_type": "code",
   "execution_count": 5,
   "metadata": {},
   "outputs": [
    {
     "data": {
      "text/html": [
       "<div>\n",
       "<style scoped>\n",
       "    .dataframe tbody tr th:only-of-type {\n",
       "        vertical-align: middle;\n",
       "    }\n",
       "\n",
       "    .dataframe tbody tr th {\n",
       "        vertical-align: top;\n",
       "    }\n",
       "\n",
       "    .dataframe thead th {\n",
       "        text-align: right;\n",
       "    }\n",
       "</style>\n",
       "<table border=\"1\" class=\"dataframe\">\n",
       "  <thead>\n",
       "    <tr style=\"text-align: right;\">\n",
       "      <th></th>\n",
       "      <th>category</th>\n",
       "      <th>sentiment</th>\n",
       "      <th>match</th>\n",
       "      <th>text</th>\n",
       "    </tr>\n",
       "  </thead>\n",
       "  <tbody>\n",
       "    <tr>\n",
       "      <td>0</td>\n",
       "      <td>16</td>\n",
       "      <td>n</td>\n",
       "      <td>lifts and the rooms need to be renovated</td>\n",
       "      <td>Cons:- I think the lifts and the rooms need to...</td>\n",
       "    </tr>\n",
       "    <tr>\n",
       "      <td>1</td>\n",
       "      <td>244</td>\n",
       "      <td>n</td>\n",
       "      <td>lifts and the rooms need to be renovated</td>\n",
       "      <td>Cons:- I think the lifts and the rooms need to...</td>\n",
       "    </tr>\n",
       "    <tr>\n",
       "      <td>2</td>\n",
       "      <td>15</td>\n",
       "      <td>p</td>\n",
       "      <td>Concierge staffs were friendly and attentive</td>\n",
       "      <td>Concierge staffs were friendly and attentive.</td>\n",
       "    </tr>\n",
       "    <tr>\n",
       "      <td>3</td>\n",
       "      <td>11</td>\n",
       "      <td>n</td>\n",
       "      <td>can't adjust the aircon</td>\n",
       "      <td>The aircon was too cold and we can't adjust th...</td>\n",
       "    </tr>\n",
       "    <tr>\n",
       "      <td>4</td>\n",
       "      <td>14</td>\n",
       "      <td>p</td>\n",
       "      <td>location makes it one of the most popular</td>\n",
       "      <td>Even though the rooms and the bathrooms are sm...</td>\n",
       "    </tr>\n",
       "  </tbody>\n",
       "</table>\n",
       "</div>"
      ],
      "text/plain": [
       "   category sentiment                                         match  \\\n",
       "0        16         n      lifts and the rooms need to be renovated   \n",
       "1       244         n      lifts and the rooms need to be renovated   \n",
       "2        15         p  Concierge staffs were friendly and attentive   \n",
       "3        11         n                       can't adjust the aircon   \n",
       "4        14         p     location makes it one of the most popular   \n",
       "\n",
       "                                                text  \n",
       "0  Cons:- I think the lifts and the rooms need to...  \n",
       "1  Cons:- I think the lifts and the rooms need to...  \n",
       "2      Concierge staffs were friendly and attentive.  \n",
       "3  The aircon was too cold and we can't adjust th...  \n",
       "4  Even though the rooms and the bathrooms are sm...  "
      ]
     },
     "execution_count": 5,
     "metadata": {},
     "output_type": "execute_result"
    }
   ],
   "source": [
    "\n",
    "columns = ['category', 'sentiment', 'match', 'text']\n",
    "dir_data = '../data/'\n",
    "en_q1_matches = pd.read_csv(dir_data + 'en_q1.csv', names=columns)\n",
    "en_q2_matches = pd.read_csv(dir_data + 'en_q2.csv', names=columns)\n",
    "en_q3_matches = pd.read_csv(dir_data + 'en_q3.csv', names=columns)\n",
    "es_matches = pd.read_csv(dir_data + 'es.csv', names=columns)\n",
    "\n",
    "en_q1_matches.head()"
   ]
  },
  {
   "cell_type": "code",
   "execution_count": 6,
   "metadata": {},
   "outputs": [
    {
     "data": {
      "text/plain": [
       "15     16695\n",
       "11     13451\n",
       "16     12010\n",
       "13      7924\n",
       "14      5541\n",
       "244     4812\n",
       "111     4369\n",
       "333     4114\n",
       "171     4055\n",
       "63      1787\n",
       "22      1726\n",
       "201     1202\n",
       "12       860\n",
       "21       848\n",
       "18       245\n",
       "444       73\n",
       "36        20\n",
       "Name: category, dtype: int64"
      ]
     },
     "execution_count": 6,
     "metadata": {},
     "output_type": "execute_result"
    }
   ],
   "source": [
    "frames = [en_q1_matches, en_q2_matches, en_q3_matches]\n",
    "en_matches = pd.concat(frames)\n",
    "\n",
    "en_matches['category'].value_counts()"
   ]
  },
  {
   "cell_type": "code",
   "execution_count": 7,
   "metadata": {},
   "outputs": [
    {
     "data": {
      "text/plain": [
       "p    67881\n",
       "n     9797\n",
       "o     2054\n",
       "Name: sentiment, dtype: int64"
      ]
     },
     "execution_count": 7,
     "metadata": {},
     "output_type": "execute_result"
    }
   ],
   "source": [
    "en_matches['sentiment'].value_counts()"
   ]
  },
  {
   "cell_type": "code",
   "execution_count": 10,
   "metadata": {},
   "outputs": [
    {
     "data": {
      "text/plain": [
       "15     7176\n",
       "16     6333\n",
       "11     5600\n",
       "13     3630\n",
       "14     3217\n",
       "111    2419\n",
       "244    2375\n",
       "171    1728\n",
       "333    1520\n",
       "22      813\n",
       "63      638\n",
       "201     527\n",
       "12      466\n",
       "21      152\n",
       "18      115\n",
       "36       14\n",
       "444       6\n",
       "Name: category, dtype: int64"
      ]
     },
     "execution_count": 10,
     "metadata": {},
     "output_type": "execute_result"
    }
   ],
   "source": [
    "es_matches['category'].value_counts()"
   ]
  },
  {
   "cell_type": "code",
   "execution_count": 16,
   "metadata": {},
   "outputs": [
    {
     "data": {
      "text/plain": [
       "category  sentiment\n",
       "11        n             3137\n",
       "          o              472\n",
       "          p             9842\n",
       "12        n               42\n",
       "          o               19\n",
       "          p              799\n",
       "13        n              764\n",
       "          o              308\n",
       "          p             6852\n",
       "14        n              260\n",
       "          o               94\n",
       "          p             5187\n",
       "15        n             1039\n",
       "          o              197\n",
       "          p            15459\n",
       "16        n             1007\n",
       "          o              236\n",
       "          p            10767\n",
       "18        n               97\n",
       "          o                8\n",
       "          p              140\n",
       "21        n              104\n",
       "          o               29\n",
       "          p              715\n",
       "22        n              349\n",
       "          o               83\n",
       "          p             1294\n",
       "36        n                3\n",
       "          o                2\n",
       "          p               15\n",
       "63        n              229\n",
       "          o               51\n",
       "          p             1507\n",
       "111       n              899\n",
       "          o              172\n",
       "          p             3298\n",
       "171       n              472\n",
       "          o              123\n",
       "          p             3460\n",
       "201       n              131\n",
       "          o               51\n",
       "          p             1020\n",
       "244       n              745\n",
       "          o              167\n",
       "          p             3900\n",
       "333       n              518\n",
       "          o               40\n",
       "          p             3556\n",
       "444       n                1\n",
       "          o                2\n",
       "          p               70\n",
       "dtype: int64"
      ]
     },
     "execution_count": 16,
     "metadata": {},
     "output_type": "execute_result"
    }
   ],
   "source": [
    "en_matches.groupby(['category','sentiment']).size()"
   ]
  },
  {
   "cell_type": "code",
   "execution_count": 15,
   "metadata": {},
   "outputs": [
    {
     "data": {
      "text/plain": [
       "category  sentiment\n",
       "11        n            1542\n",
       "          o             264\n",
       "          p            3794\n",
       "12        n              12\n",
       "          o               6\n",
       "          p             448\n",
       "13        n             342\n",
       "          o             182\n",
       "          p            3106\n",
       "14        n             198\n",
       "          o              49\n",
       "          p            2970\n",
       "15        n             459\n",
       "          o             101\n",
       "          p            6616\n",
       "16        n             472\n",
       "          o             111\n",
       "          p            5750\n",
       "18        n              52\n",
       "          o               5\n",
       "          p              58\n",
       "21        n              14\n",
       "          o               4\n",
       "          p             134\n",
       "22        n             153\n",
       "          o              41\n",
       "          p             619\n",
       "36        n               2\n",
       "          p              12\n",
       "63        n             121\n",
       "          o              14\n",
       "          p             503\n",
       "111       n             587\n",
       "          o             119\n",
       "          p            1713\n",
       "171       n             204\n",
       "          o              59\n",
       "          p            1465\n",
       "201       n              61\n",
       "          o               7\n",
       "          p             459\n",
       "244       n             362\n",
       "          o              63\n",
       "          p            1950\n",
       "333       n             237\n",
       "          o              23\n",
       "          p            1260\n",
       "444       n               3\n",
       "          p               3\n",
       "dtype: int64"
      ]
     },
     "execution_count": 15,
     "metadata": {},
     "output_type": "execute_result"
    }
   ],
   "source": [
    "es_matches.groupby(['category','sentiment']).size()"
   ]
  },
  {
   "cell_type": "code",
   "execution_count": null,
   "metadata": {},
   "outputs": [],
   "source": []
  }
 ],
 "metadata": {
  "kernelspec": {
   "display_name": "Python 3",
   "language": "python",
   "name": "python3"
  },
  "language_info": {
   "codemirror_mode": {
    "name": "ipython",
    "version": 3
   },
   "file_extension": ".py",
   "mimetype": "text/x-python",
   "name": "python",
   "nbconvert_exporter": "python",
   "pygments_lexer": "ipython3",
   "version": "3.7.9"
  }
 },
 "nbformat": 4,
 "nbformat_minor": 2
}
